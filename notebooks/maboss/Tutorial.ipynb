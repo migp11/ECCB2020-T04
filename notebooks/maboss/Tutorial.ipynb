{
 "cells": [
  {
   "cell_type": "markdown",
   "metadata": {},
   "source": [
    "# pyMaBoSS"
   ]
  },
  {
   "cell_type": "markdown",
   "metadata": {},
   "source": [
    "## A python interface for the MaBoSS software"
   ]
  },
  {
   "cell_type": "code",
   "execution_count": 1,
   "metadata": {
    "scrolled": true
   },
   "outputs": [],
   "source": [
    "import maboss, ginsim, biolqm"
   ]
  },
  {
   "cell_type": "markdown",
   "metadata": {},
   "source": [
    "## Toy example"
   ]
  },
  {
   "cell_type": "markdown",
   "metadata": {},
   "source": [
    "We are going to study this simple boolean network, where:\n",
    "- A is constitutively activated\n",
    "- B and C are activated by A\n",
    "- B and C are mutually exclusive"
   ]
  },
  {
   "cell_type": "markdown",
   "metadata": {},
   "source": [
    "#### Bnet file"
   ]
  },
  {
   "cell_type": "code",
   "execution_count": 2,
   "metadata": {},
   "outputs": [
    {
     "name": "stdout",
     "output_type": "stream",
     "text": [
      "A, 1\r\n",
      "B, A & !C\r\n",
      "C, A & !B\r\n"
     ]
    }
   ],
   "source": [
    "!cat toy.bnet"
   ]
  },
  {
   "cell_type": "markdown",
   "metadata": {},
   "source": [
    "#### Showing the interaction graph with GINsim"
   ]
  },
  {
   "cell_type": "code",
   "execution_count": 3,
   "metadata": {},
   "outputs": [
    {
     "data": {
      "text/html": [
       "<img class=\"unconfined\" width=\"135px\" src=\"data:image/svg+xml;base64,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\">"
      ],
      "text/plain": [
       "<IPython.core.display.HTML object>"
      ]
     },
     "execution_count": 3,
     "metadata": {},
     "output_type": "execute_result"
    }
   ],
   "source": [
    "g_model = biolqm.to_ginsim(biolqm.load(\"toy.bnet\"))\n",
    "ginsim.service(\"layout\").runLayout(1, g_model)\n",
    "ginsim.show(g_model)"
   ]
  },
  {
   "cell_type": "markdown",
   "metadata": {},
   "source": [
    "### Creating the model\n",
    "\n",
    "Now we want to have a MaBoSS model.\n",
    "We need to write both a BND file, for the network, and a CFG file, for simulation settings."
   ]
  },
  {
   "cell_type": "markdown",
   "metadata": {},
   "source": [
    "#### BND file\n",
    "\n",
    "This file defines the network : in the case of MaBoSS, its nodes, and rates to activate/inactivate them"
   ]
  },
  {
   "cell_type": "code",
   "execution_count": 4,
   "metadata": {},
   "outputs": [
    {
     "name": "stdout",
     "output_type": "stream",
     "text": [
      "node A {\r\n",
      "    logic = 1;\r\n",
      "    rate_up = @logic ? 1 : 0;\r\n",
      "    rate_down = 0;\r\n",
      "}\r\n",
      "\r\n",
      "node B { \r\n",
      "    logic = A & !C;\r\n",
      "    rate_up = @logic ? $act_B : 0;\r\n",
      "    rate_down = 0;\r\n",
      "}\r\n",
      "\r\n",
      "node C { \r\n",
      "    logic = A & !B;\r\n",
      "    rate_up = @logic ? $act_C : 0;\r\n",
      "    rate_down = 0;\r\n",
      "}\r\n",
      "  "
     ]
    }
   ],
   "source": [
    "!cat toy.bnd"
   ]
  },
  {
   "cell_type": "markdown",
   "metadata": {},
   "source": [
    "#### CFG file\n",
    "\n",
    "This file defines the initial state of the network, parameter values, and simulation settings"
   ]
  },
  {
   "cell_type": "code",
   "execution_count": 5,
   "metadata": {},
   "outputs": [
    {
     "name": "stdout",
     "output_type": "stream",
     "text": [
      "A.istate = FALSE;\r\n",
      "B.istate = FALSE;\r\n",
      "C.istate = FALSE;\r\n",
      "\r\n",
      "$act_B = 1;\r\n",
      "$act_C = 1;\r\n",
      "\r\n",
      "max_time = 20.0;\r\n",
      "sample_count = 1000.0;\r\n",
      "use_physrandgen = 1.0;\r\n",
      "thread_count = 1.0;\r\n"
     ]
    }
   ],
   "source": [
    "!cat toy.cfg"
   ]
  },
  {
   "cell_type": "markdown",
   "metadata": {},
   "source": [
    "#### We could have generated it using the bnet file and BioLQM"
   ]
  },
  {
   "cell_type": "code",
   "execution_count": 6,
   "metadata": {},
   "outputs": [
    {
     "name": "stdout",
     "output_type": "stream",
     "text": [
      "Node A {\n",
      "\n",
      "\n",
      "\trate_up = $u_A;\n",
      "\trate_down = 0;\n",
      "}\n",
      "Node B {\n",
      "\n",
      "\tlogic = (A & !C);\n",
      "\trate_up = @logic ? $u_B : 0;\n",
      "\trate_down = @logic ? 0 : $d_B;\n",
      "}\n",
      "\n",
      "Node C {\n",
      "\n",
      "\tlogic = (A & !B);\n",
      "\trate_up = @logic ? $u_C : 0;\n",
      "\trate_down = @logic ? 0 : $d_C;\n",
      "}\n"
     ]
    }
   ],
   "source": [
    "b_model = biolqm.load(\"toy.bnet\")\n",
    "m_model = biolqm.to_maboss(b_model)\n",
    "m_model.print_bnd()"
   ]
  },
  {
   "cell_type": "code",
   "execution_count": 7,
   "metadata": {},
   "outputs": [
    {
     "name": "stdout",
     "output_type": "stream",
     "text": [
      "$nb_mutable = 0;\n",
      "$u_A = 1;\n",
      "$d_A = 1;\n",
      "$u_B = 1;\n",
      "$d_B = 1;\n",
      "$u_C = 1;\n",
      "$d_C = 1;\n",
      "A.istate = FALSE;\n",
      "B.istate = FALSE;\n",
      "C.istate = FALSE;\n",
      "\n",
      "time_tick = 0.5;\n",
      "max_time = 1000.0;\n",
      "sample_count = 10000.0;\n",
      "discrete_time = 0.0;\n",
      "use_physrandgen = 1.0;\n",
      "seed_pseudorandom = 0.0;\n",
      "display_traj = 0.0;\n",
      "statdist_traj_count = 0.0;\n",
      "statdist_cluster_threshold = 1.0;\n",
      "thread_count = 1.0;\n",
      "statdist_similarity_cache_max_size = 20000.0;\n",
      "A.is_internal = False;\n",
      "B.is_internal = False;\n",
      "C.is_internal = False;\n",
      "\n"
     ]
    }
   ],
   "source": [
    "m_model.print_cfg()"
   ]
  },
  {
   "cell_type": "markdown",
   "metadata": {},
   "source": [
    "Conversion through GINsim/BioLQM also works with SBML-Qual models, making it compatible with model from CaSQ, BioModels, Cell Collective, ..."
   ]
  },
  {
   "cell_type": "markdown",
   "metadata": {},
   "source": [
    "### Simulating the model\n",
    "\n",
    "First we load the model"
   ]
  },
  {
   "cell_type": "code",
   "execution_count": 8,
   "metadata": {},
   "outputs": [],
   "source": [
    "model = maboss.load(\"toy.bnd\", \"toy.cfg\")"
   ]
  },
  {
   "cell_type": "markdown",
   "metadata": {},
   "source": [
    "Then we run the simulation"
   ]
  },
  {
   "cell_type": "code",
   "execution_count": 9,
   "metadata": {},
   "outputs": [],
   "source": [
    "res = model.run()"
   ]
  },
  {
   "cell_type": "markdown",
   "metadata": {},
   "source": [
    "#### Plotting the results"
   ]
  },
  {
   "cell_type": "markdown",
   "metadata": {},
   "source": [
    "This example is a simple fork : with asynchronous update and with default parameters, what should the results be ?"
   ]
  },
  {
   "cell_type": "code",
   "execution_count": 10,
   "metadata": {},
   "outputs": [
    {
     "data": {
      "image/png": "[encoded data removed]",
      "text/plain": [
       "<Figure size 432x288 with 1 Axes>"
      ]
     },
     "metadata": {},
     "output_type": "display_data"
    }
   ],
   "source": [
    "res.plot_piechart()"
   ]
  },
  {
   "cell_type": "code",
   "execution_count": 11,
   "metadata": {},
   "outputs": [
    {
     "data": {
      "image/png": "[encoded data removed]",
      "text/plain": [
       "<Figure size 432x288 with 1 Axes>"
      ]
     },
     "metadata": {
      "needs_background": "light"
     },
     "output_type": "display_data"
    }
   ],
   "source": [
    "res.plot_trajectory()"
   ]
  },
  {
   "cell_type": "code",
   "execution_count": 12,
   "metadata": {},
   "outputs": [
    {
     "data": {
      "image/png": "[encoded data removed]",
      "text/plain": [
       "<Figure size 432x288 with 1 Axes>"
      ]
     },
     "metadata": {
      "needs_background": "light"
     },
     "output_type": "display_data"
    }
   ],
   "source": [
    "res.plot_node_trajectory()"
   ]
  },
  {
   "cell_type": "markdown",
   "metadata": {},
   "source": [
    "#### Getting trajectory data\n",
    "\n",
    "We can get both state and node probability trajectories, as panda dataframes"
   ]
  },
  {
   "cell_type": "code",
   "execution_count": 13,
   "metadata": {},
   "outputs": [
    {
     "data": {
      "text/html": [
       "<div>\n",
       "<style scoped>\n",
       "    .dataframe tbody tr th:only-of-type {\n",
       "        vertical-align: middle;\n",
       "    }\n",
       "\n",
       "    .dataframe tbody tr th {\n",
       "        vertical-align: top;\n",
       "    }\n",
       "\n",
       "    .dataframe thead th {\n",
       "        text-align: right;\n",
       "    }\n",
       "</style>\n",
       "<table border=\"1\" class=\"dataframe\">\n",
       "  <thead>\n",
       "    <tr style=\"text-align: right;\">\n",
       "      <th></th>\n",
       "      <th>&lt;nil&gt;</th>\n",
       "      <th>A</th>\n",
       "      <th>A -- B</th>\n",
       "      <th>A -- C</th>\n",
       "    </tr>\n",
       "  </thead>\n",
       "  <tbody>\n",
       "    <tr>\n",
       "      <th>0.0</th>\n",
       "      <td>0.959660</td>\n",
       "      <td>0.039038</td>\n",
       "      <td>0.000886</td>\n",
       "      <td>0.000416</td>\n",
       "    </tr>\n",
       "    <tr>\n",
       "      <th>0.1</th>\n",
       "      <td>0.875274</td>\n",
       "      <td>0.107857</td>\n",
       "      <td>0.012149</td>\n",
       "      <td>0.004720</td>\n",
       "    </tr>\n",
       "    <tr>\n",
       "      <th>0.2</th>\n",
       "      <td>0.801390</td>\n",
       "      <td>0.158588</td>\n",
       "      <td>0.023300</td>\n",
       "      <td>0.016723</td>\n",
       "    </tr>\n",
       "    <tr>\n",
       "      <th>0.3</th>\n",
       "      <td>0.737802</td>\n",
       "      <td>0.186609</td>\n",
       "      <td>0.047500</td>\n",
       "      <td>0.028089</td>\n",
       "    </tr>\n",
       "    <tr>\n",
       "      <th>0.4</th>\n",
       "      <td>0.669404</td>\n",
       "      <td>0.217805</td>\n",
       "      <td>0.070970</td>\n",
       "      <td>0.041821</td>\n",
       "    </tr>\n",
       "    <tr>\n",
       "      <th>...</th>\n",
       "      <td>...</td>\n",
       "      <td>...</td>\n",
       "      <td>...</td>\n",
       "      <td>...</td>\n",
       "    </tr>\n",
       "    <tr>\n",
       "      <th>19.4</th>\n",
       "      <td>0.000000</td>\n",
       "      <td>0.000000</td>\n",
       "      <td>0.498000</td>\n",
       "      <td>0.502000</td>\n",
       "    </tr>\n",
       "    <tr>\n",
       "      <th>19.5</th>\n",
       "      <td>0.000000</td>\n",
       "      <td>0.000000</td>\n",
       "      <td>0.498000</td>\n",
       "      <td>0.502000</td>\n",
       "    </tr>\n",
       "    <tr>\n",
       "      <th>19.6</th>\n",
       "      <td>0.000000</td>\n",
       "      <td>0.000000</td>\n",
       "      <td>0.498000</td>\n",
       "      <td>0.502000</td>\n",
       "    </tr>\n",
       "    <tr>\n",
       "      <th>19.7</th>\n",
       "      <td>0.000000</td>\n",
       "      <td>0.000000</td>\n",
       "      <td>0.498000</td>\n",
       "      <td>0.502000</td>\n",
       "    </tr>\n",
       "    <tr>\n",
       "      <th>19.8</th>\n",
       "      <td>0.000000</td>\n",
       "      <td>0.000000</td>\n",
       "      <td>0.498000</td>\n",
       "      <td>0.502000</td>\n",
       "    </tr>\n",
       "  </tbody>\n",
       "</table>\n",
       "<p>199 rows × 4 columns</p>\n",
       "</div>"
      ],
      "text/plain": [
       "         <nil>         A    A -- B    A -- C\n",
       "0.0   0.959660  0.039038  0.000886  0.000416\n",
       "0.1   0.875274  0.107857  0.012149  0.004720\n",
       "0.2   0.801390  0.158588  0.023300  0.016723\n",
       "0.3   0.737802  0.186609  0.047500  0.028089\n",
       "0.4   0.669404  0.217805  0.070970  0.041821\n",
       "...        ...       ...       ...       ...\n",
       "19.4  0.000000  0.000000  0.498000  0.502000\n",
       "19.5  0.000000  0.000000  0.498000  0.502000\n",
       "19.6  0.000000  0.000000  0.498000  0.502000\n",
       "19.7  0.000000  0.000000  0.498000  0.502000\n",
       "19.8  0.000000  0.000000  0.498000  0.502000\n",
       "\n",
       "[199 rows x 4 columns]"
      ]
     },
     "execution_count": 13,
     "metadata": {},
     "output_type": "execute_result"
    }
   ],
   "source": [
    "table = res.get_states_probtraj()\n",
    "table"
   ]
  },
  {
   "cell_type": "code",
   "execution_count": 14,
   "metadata": {},
   "outputs": [
    {
     "data": {
      "text/html": [
       "<div>\n",
       "<style scoped>\n",
       "    .dataframe tbody tr th:only-of-type {\n",
       "        vertical-align: middle;\n",
       "    }\n",
       "\n",
       "    .dataframe tbody tr th {\n",
       "        vertical-align: top;\n",
       "    }\n",
       "\n",
       "    .dataframe thead th {\n",
       "        text-align: right;\n",
       "    }\n",
       "</style>\n",
       "<table border=\"1\" class=\"dataframe\">\n",
       "  <thead>\n",
       "    <tr style=\"text-align: right;\">\n",
       "      <th></th>\n",
       "      <th>A</th>\n",
       "      <th>B</th>\n",
       "      <th>C</th>\n",
       "    </tr>\n",
       "  </thead>\n",
       "  <tbody>\n",
       "    <tr>\n",
       "      <th>0.0</th>\n",
       "      <td>0.040340</td>\n",
       "      <td>0.000886</td>\n",
       "      <td>0.000416</td>\n",
       "    </tr>\n",
       "    <tr>\n",
       "      <th>0.1</th>\n",
       "      <td>0.124726</td>\n",
       "      <td>0.012149</td>\n",
       "      <td>0.004720</td>\n",
       "    </tr>\n",
       "    <tr>\n",
       "      <th>0.2</th>\n",
       "      <td>0.198611</td>\n",
       "      <td>0.023300</td>\n",
       "      <td>0.016723</td>\n",
       "    </tr>\n",
       "    <tr>\n",
       "      <th>0.3</th>\n",
       "      <td>0.262198</td>\n",
       "      <td>0.047500</td>\n",
       "      <td>0.028089</td>\n",
       "    </tr>\n",
       "    <tr>\n",
       "      <th>0.4</th>\n",
       "      <td>0.330596</td>\n",
       "      <td>0.070970</td>\n",
       "      <td>0.041821</td>\n",
       "    </tr>\n",
       "    <tr>\n",
       "      <th>...</th>\n",
       "      <td>...</td>\n",
       "      <td>...</td>\n",
       "      <td>...</td>\n",
       "    </tr>\n",
       "    <tr>\n",
       "      <th>19.4</th>\n",
       "      <td>1.000000</td>\n",
       "      <td>0.498000</td>\n",
       "      <td>0.502000</td>\n",
       "    </tr>\n",
       "    <tr>\n",
       "      <th>19.5</th>\n",
       "      <td>1.000000</td>\n",
       "      <td>0.498000</td>\n",
       "      <td>0.502000</td>\n",
       "    </tr>\n",
       "    <tr>\n",
       "      <th>19.6</th>\n",
       "      <td>1.000000</td>\n",
       "      <td>0.498000</td>\n",
       "      <td>0.502000</td>\n",
       "    </tr>\n",
       "    <tr>\n",
       "      <th>19.7</th>\n",
       "      <td>1.000000</td>\n",
       "      <td>0.498000</td>\n",
       "      <td>0.502000</td>\n",
       "    </tr>\n",
       "    <tr>\n",
       "      <th>19.8</th>\n",
       "      <td>1.000000</td>\n",
       "      <td>0.498000</td>\n",
       "      <td>0.502000</td>\n",
       "    </tr>\n",
       "  </tbody>\n",
       "</table>\n",
       "<p>199 rows × 3 columns</p>\n",
       "</div>"
      ],
      "text/plain": [
       "             A         B         C\n",
       "0.0   0.040340  0.000886  0.000416\n",
       "0.1   0.124726  0.012149  0.004720\n",
       "0.2   0.198611  0.023300  0.016723\n",
       "0.3   0.262198  0.047500  0.028089\n",
       "0.4   0.330596  0.070970  0.041821\n",
       "...        ...       ...       ...\n",
       "19.4  1.000000  0.498000  0.502000\n",
       "19.5  1.000000  0.498000  0.502000\n",
       "19.6  1.000000  0.498000  0.502000\n",
       "19.7  1.000000  0.498000  0.502000\n",
       "19.8  1.000000  0.498000  0.502000\n",
       "\n",
       "[199 rows x 3 columns]"
      ]
     },
     "execution_count": 14,
     "metadata": {},
     "output_type": "execute_result"
    }
   ],
   "source": [
    "table_nodes = res.get_nodes_probtraj()\n",
    "table_nodes"
   ]
  },
  {
   "cell_type": "code",
   "execution_count": 15,
   "metadata": {},
   "outputs": [
    {
     "data": {
      "text/plain": [
       "<AxesSubplot:>"
      ]
     },
     "execution_count": 15,
     "metadata": {},
     "output_type": "execute_result"
    },
    {
     "data": {
      "image/png": "[encoded data removed]",
      "text/plain": [
       "<Figure size 432x288 with 1 Axes>"
      ]
     },
     "metadata": {
      "needs_background": "light"
     },
     "output_type": "display_data"
    }
   ],
   "source": [
    "table_nodes[\"C\"].plot()"
   ]
  },
  {
   "cell_type": "markdown",
   "metadata": {},
   "source": [
    "### Modifying the simulation"
   ]
  },
  {
   "cell_type": "markdown",
   "metadata": {},
   "source": [
    "#### Modifying initial states"
   ]
  },
  {
   "cell_type": "code",
   "execution_count": 16,
   "metadata": {},
   "outputs": [],
   "source": [
    "model2 = model.copy()\n",
    "model2.network.set_istate('C', [0.25, 0.75]) # 75% of cells will have C active"
   ]
  },
  {
   "cell_type": "code",
   "execution_count": 17,
   "metadata": {},
   "outputs": [
    {
     "name": "stdout",
     "output_type": "stream",
     "text": [
      "$nb_mutable = 0;\n",
      "$act_B = 1;\n",
      "$act_C = 1;\n",
      "A.istate = FALSE;\n",
      "B.istate = FALSE;\n",
      "[C].istate = 0.25[0] , 0.75[1];\n",
      "\n",
      "time_tick = 0.1;\n",
      "max_time = 20.0;\n",
      "sample_count = 1000.0;\n",
      "discrete_time = 0;\n",
      "use_physrandgen = 1.0;\n",
      "seed_pseudorandom = 0;\n",
      "display_traj = 0;\n",
      "statdist_traj_count = 0;\n",
      "statdist_cluster_threshold = 1;\n",
      "thread_count = 1.0;\n",
      "statdist_similarity_cache_max_size = 20000;\n",
      "A.is_internal = False;\n",
      "B.is_internal = False;\n",
      "C.is_internal = False;\n",
      "\n"
     ]
    }
   ],
   "source": [
    "model2.print_cfg()"
   ]
  },
  {
   "cell_type": "code",
   "execution_count": 18,
   "metadata": {},
   "outputs": [
    {
     "data": {
      "image/png": "[encoded data removed]",
      "text/plain": [
       "<Figure size 432x288 with 1 Axes>"
      ]
     },
     "metadata": {},
     "output_type": "display_data"
    }
   ],
   "source": [
    "res2 = model2.run()\n",
    "res2.plot_piechart()"
   ]
  },
  {
   "cell_type": "code",
   "execution_count": 19,
   "metadata": {},
   "outputs": [
    {
     "data": {
      "image/png": "[encoded data removed]",
      "text/plain": [
       "<Figure size 432x288 with 1 Axes>"
      ]
     },
     "metadata": {
      "needs_background": "light"
     },
     "output_type": "display_data"
    }
   ],
   "source": [
    "res2.plot_node_trajectory()"
   ]
  },
  {
   "cell_type": "markdown",
   "metadata": {},
   "source": [
    "#### Modifying rate parameters"
   ]
  },
  {
   "cell_type": "code",
   "execution_count": 20,
   "metadata": {},
   "outputs": [],
   "source": [
    "model3 = model.copy()\n",
    "model3.param[\"$act_B\"] = 10"
   ]
  },
  {
   "cell_type": "markdown",
   "metadata": {},
   "source": [
    "We modified the configuration of the simulation"
   ]
  },
  {
   "cell_type": "code",
   "execution_count": 21,
   "metadata": {},
   "outputs": [
    {
     "name": "stdout",
     "output_type": "stream",
     "text": [
      "$nb_mutable = 0;\n",
      "$act_B = 10;\n",
      "$act_C = 1;\n",
      "A.istate = FALSE;\n",
      "B.istate = FALSE;\n",
      "C.istate = FALSE;\n",
      "\n",
      "time_tick = 0.1;\n",
      "max_time = 20.0;\n",
      "sample_count = 1000.0;\n",
      "discrete_time = 0;\n",
      "use_physrandgen = 1.0;\n",
      "seed_pseudorandom = 0;\n",
      "display_traj = 0;\n",
      "statdist_traj_count = 0;\n",
      "statdist_cluster_threshold = 1;\n",
      "thread_count = 1.0;\n",
      "statdist_similarity_cache_max_size = 20000;\n",
      "A.is_internal = False;\n",
      "B.is_internal = False;\n",
      "C.is_internal = False;\n",
      "\n"
     ]
    }
   ],
   "source": [
    "model3.print_cfg()"
   ]
  },
  {
   "cell_type": "code",
   "execution_count": 22,
   "metadata": {},
   "outputs": [
    {
     "data": {
      "image/png": "[encoded data removed]",
      "text/plain": [
       "<Figure size 432x288 with 1 Axes>"
      ]
     },
     "metadata": {},
     "output_type": "display_data"
    }
   ],
   "source": [
    "res3 = model3.run()\n",
    "res3.plot_piechart()"
   ]
  },
  {
   "cell_type": "code",
   "execution_count": 23,
   "metadata": {},
   "outputs": [
    {
     "data": {
      "image/png": "[encoded data removed]",
      "text/plain": [
       "<Figure size 432x288 with 1 Axes>"
      ]
     },
     "metadata": {
      "needs_background": "light"
     },
     "output_type": "display_data"
    }
   ],
   "source": [
    "res3.plot_trajectory()"
   ]
  },
  {
   "cell_type": "markdown",
   "metadata": {},
   "source": [
    "#### Mutating the network"
   ]
  },
  {
   "cell_type": "code",
   "execution_count": 24,
   "metadata": {},
   "outputs": [],
   "source": [
    "model4 = model.copy()\n",
    "model4.mutate('C', 'OFF')"
   ]
  },
  {
   "cell_type": "code",
   "execution_count": 25,
   "metadata": {},
   "outputs": [
    {
     "name": "stdout",
     "output_type": "stream",
     "text": [
      "Node A {\n",
      "\n",
      "\tlogic = 1;\n",
      "\trate_up = @logic ? 1 : 0;\n",
      "\trate_down = 0;\n",
      "}\n",
      "Node B {\n",
      "\n",
      "\tlogic = A & !C;\n",
      "\trate_up = @logic ? $act_B : 0;\n",
      "\trate_down = 0;\n",
      "}\n",
      "\n",
      "Node C {\n",
      "\n",
      "\tlogic = A & !B;\n",
      "\trate_up = $Low_C ? 0 : ($High_C ? 1E308/$nb_mutable : (@logic ? $act_C : 0));\n",
      "\trate_down = $High_C ? 0 : ($Low_C ? 1E308/$nb_mutable : (0));\n",
      "}\n"
     ]
    }
   ],
   "source": [
    "model4.print_bnd()"
   ]
  },
  {
   "cell_type": "code",
   "execution_count": 26,
   "metadata": {},
   "outputs": [
    {
     "data": {
      "image/png": "[encoded data removed]",
      "text/plain": [
       "<Figure size 432x288 with 1 Axes>"
      ]
     },
     "metadata": {},
     "output_type": "display_data"
    }
   ],
   "source": [
    "res4 = model4.run()\n",
    "res4.plot_piechart()"
   ]
  },
  {
   "cell_type": "markdown",
   "metadata": {},
   "source": [
    "#### Reducing state combinatorials"
   ]
  },
  {
   "cell_type": "code",
   "execution_count": 27,
   "metadata": {},
   "outputs": [],
   "source": [
    "model5 = model.copy()\n",
    "model5.network.set_output([\"B\", \"C\"])"
   ]
  },
  {
   "cell_type": "code",
   "execution_count": 28,
   "metadata": {},
   "outputs": [
    {
     "name": "stdout",
     "output_type": "stream",
     "text": [
      "$nb_mutable = 0;\n",
      "$act_B = 1;\n",
      "$act_C = 1;\n",
      "A.istate = FALSE;\n",
      "B.istate = FALSE;\n",
      "C.istate = FALSE;\n",
      "\n",
      "time_tick = 0.1;\n",
      "max_time = 20.0;\n",
      "sample_count = 1000.0;\n",
      "discrete_time = 0;\n",
      "use_physrandgen = 1.0;\n",
      "seed_pseudorandom = 0;\n",
      "display_traj = 0;\n",
      "statdist_traj_count = 0;\n",
      "statdist_cluster_threshold = 1;\n",
      "thread_count = 1.0;\n",
      "statdist_similarity_cache_max_size = 20000;\n",
      "A.is_internal = True;\n",
      "B.is_internal = False;\n",
      "C.is_internal = False;\n",
      "\n"
     ]
    }
   ],
   "source": [
    "model5.print_cfg()"
   ]
  },
  {
   "cell_type": "code",
   "execution_count": 29,
   "metadata": {},
   "outputs": [
    {
     "data": {
      "image/png": "[encoded data removed]",
      "text/plain": [
       "<Figure size 432x288 with 1 Axes>"
      ]
     },
     "metadata": {},
     "output_type": "display_data"
    }
   ],
   "source": [
    "res5 = model5.run()\n",
    "res5.plot_piechart()"
   ]
  },
  {
   "cell_type": "markdown",
   "metadata": {},
   "source": [
    "## Population toy example"
   ]
  },
  {
   "cell_type": "markdown",
   "metadata": {},
   "source": [
    "#### Creating Death and Division nodes"
   ]
  },
  {
   "cell_type": "code",
   "execution_count": 30,
   "metadata": {},
   "outputs": [],
   "source": [
    "model6 = model.copy()\n",
    "model6.param[\"max_time\"] = 5\n",
    "\n",
    "model6.network.add_node(\"Death\")\n",
    "model6.network[\"Death\"].rt_up = \"0\";\n",
    "model6.network[\"Death\"].rt_down = \"0\";\n",
    "model6.network.set_istate('Death', [1, 0])"
   ]
  },
  {
   "cell_type": "code",
   "execution_count": 31,
   "metadata": {},
   "outputs": [],
   "source": [
    "model6.network.add_node(\"Division\")\n",
    "model6.network[\"Division\"].rt_up = \"C ? 0.01 : 0.001\"\n",
    "model6.network[\"Division\"].rt_down = 0; \n",
    "model6.network.set_istate('Division', [1, 0])"
   ]
  },
  {
   "cell_type": "markdown",
   "metadata": {},
   "source": [
    "#### Building the UPMaBoSS simulation"
   ]
  },
  {
   "cell_type": "code",
   "execution_count": 32,
   "metadata": {},
   "outputs": [],
   "source": [
    "pop_model = maboss.UpdatePopulation(model6)"
   ]
  },
  {
   "cell_type": "code",
   "execution_count": 33,
   "metadata": {},
   "outputs": [],
   "source": [
    "pop_model.setDeathNode(\"Death\")\n",
    "pop_model.setDivisionNode(\"Division\")\n",
    "pop_model.setStepNumber(20)"
   ]
  },
  {
   "cell_type": "markdown",
   "metadata": {},
   "source": [
    "#### Running the simulation"
   ]
  },
  {
   "cell_type": "code",
   "execution_count": 34,
   "metadata": {},
   "outputs": [],
   "source": [
    "pop_res = pop_model.run()"
   ]
  },
  {
   "cell_type": "markdown",
   "metadata": {},
   "source": [
    "#### Plotting the population dynamics"
   ]
  },
  {
   "cell_type": "code",
   "execution_count": 35,
   "metadata": {},
   "outputs": [
    {
     "data": {
      "text/plain": [
       "<AxesSubplot:>"
      ]
     },
     "execution_count": 35,
     "metadata": {},
     "output_type": "execute_result"
    },
    {
     "data": {
      "image/png": "[encoded data removed]",
      "text/plain": [
       "<Figure size 432x288 with 1 Axes>"
      ]
     },
     "metadata": {
      "needs_background": "light"
     },
     "output_type": "display_data"
    }
   ],
   "source": [
    "pop_res.get_stepwise_probability_distribution().iloc[:, 0].plot()"
   ]
  },
  {
   "cell_type": "markdown",
   "metadata": {},
   "source": [
    "#### Plotting the state distributions"
   ]
  },
  {
   "cell_type": "code",
   "execution_count": 36,
   "metadata": {},
   "outputs": [
    {
     "data": {
      "text/plain": [
       "<AxesSubplot:>"
      ]
     },
     "execution_count": 36,
     "metadata": {},
     "output_type": "execute_result"
    },
    {
     "data": {
      "image/png": "[encoded data removed]",
      "text/plain": [
       "<Figure size 432x288 with 1 Axes>"
      ]
     },
     "metadata": {
      "needs_background": "light"
     },
     "output_type": "display_data"
    }
   ],
   "source": [
    "pop_res.get_stepwise_probability_distribution().iloc[:, 1:].plot()"
   ]
  },
  {
   "cell_type": "markdown",
   "metadata": {},
   "source": [
    "### Adding cell-cell interactions"
   ]
  },
  {
   "cell_type": "code",
   "execution_count": 37,
   "metadata": {},
   "outputs": [],
   "source": [
    "model7 = model6.copy()"
   ]
  },
  {
   "cell_type": "markdown",
   "metadata": {},
   "source": [
    "We create a $death_rate parameter"
   ]
  },
  {
   "cell_type": "code",
   "execution_count": 38,
   "metadata": {},
   "outputs": [],
   "source": [
    "model7.param[\"$death_rate\"] = 0"
   ]
  },
  {
   "cell_type": "markdown",
   "metadata": {},
   "source": [
    "This parameter will control the activation rate of the Death node, but only for C cells"
   ]
  },
  {
   "cell_type": "code",
   "execution_count": 39,
   "metadata": {},
   "outputs": [],
   "source": [
    "model7.network[\"Death\"].rt_up = \"C ? $death_rate*0.1 : 0\""
   ]
  },
  {
   "cell_type": "code",
   "execution_count": 40,
   "metadata": {},
   "outputs": [],
   "source": [
    "pop_model2 = maboss.UpdatePopulation(model7)"
   ]
  },
  {
   "cell_type": "markdown",
   "metadata": {},
   "source": [
    "This time we also set an external variable, which depends on the percentage of B cells, to update the death rate."
   ]
  },
  {
   "cell_type": "code",
   "execution_count": 41,
   "metadata": {},
   "outputs": [],
   "source": [
    "pop_model2.setDeathNode(\"Death\")\n",
    "pop_model2.setDivisionNode(\"Division\")\n",
    "pop_model2.setStepNumber(100)\n",
    "pop_model2.setExternalVariable(\"$death_rate\", \"p[(B) = (1)]\")"
   ]
  },
  {
   "cell_type": "markdown",
   "metadata": {},
   "source": [
    "So to summarize, B cells will activate the death of C cells."
   ]
  },
  {
   "cell_type": "code",
   "execution_count": 42,
   "metadata": {},
   "outputs": [],
   "source": [
    "pop_res2 = pop_model2.run()"
   ]
  },
  {
   "cell_type": "markdown",
   "metadata": {},
   "source": [
    "#### Plotting the population dynamics"
   ]
  },
  {
   "cell_type": "code",
   "execution_count": 43,
   "metadata": {},
   "outputs": [
    {
     "data": {
      "text/plain": [
       "<AxesSubplot:>"
      ]
     },
     "execution_count": 43,
     "metadata": {},
     "output_type": "execute_result"
    },
    {
     "data": {
      "image/png": "[encoded data removed]",
      "text/plain": [
       "<Figure size 432x288 with 1 Axes>"
      ]
     },
     "metadata": {
      "needs_background": "light"
     },
     "output_type": "display_data"
    }
   ],
   "source": [
    "pop_res2.get_stepwise_probability_distribution().iloc[:, 0].plot()"
   ]
  },
  {
   "cell_type": "markdown",
   "metadata": {},
   "source": [
    "This time, the population initially increases then drops"
   ]
  },
  {
   "cell_type": "markdown",
   "metadata": {},
   "source": [
    "#### Plotting state distribution"
   ]
  },
  {
   "cell_type": "code",
   "execution_count": 44,
   "metadata": {},
   "outputs": [
    {
     "data": {
      "text/plain": [
       "<AxesSubplot:>"
      ]
     },
     "execution_count": 44,
     "metadata": {},
     "output_type": "execute_result"
    },
    {
     "data": {
      "image/png": "[encoded data removed]",
      "text/plain": [
       "<Figure size 432x288 with 1 Axes>"
      ]
     },
     "metadata": {
      "needs_background": "light"
     },
     "output_type": "display_data"
    }
   ],
   "source": [
    "pop_res2.get_stepwise_probability_distribution().iloc[:, 1:].plot()"
   ]
  },
  {
   "cell_type": "markdown",
   "metadata": {},
   "source": [
    "C cells are being killed by B cells, which become dominant"
   ]
  },
  {
   "cell_type": "code",
   "execution_count": null,
   "metadata": {},
   "outputs": [],
   "source": []
  }
 ],
 "metadata": {
  "kernelspec": {
   "display_name": "Python 3",
   "language": "python",
   "name": "python3"
  },
  "language_info": {
   "codemirror_mode": {
    "name": "ipython",
    "version": 3
   },
   "file_extension": ".py",
   "mimetype": "text/x-python",
   "name": "python",
   "nbconvert_exporter": "python",
   "pygments_lexer": "ipython3",
   "version": "3.7.7"
  }
 },
 "nbformat": 4,
 "nbformat_minor": 2
}
