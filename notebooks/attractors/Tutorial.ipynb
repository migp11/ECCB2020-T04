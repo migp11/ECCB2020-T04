{
 "cells": [
  {
   "cell_type": "markdown",
   "metadata": {},
   "source": [
    "# Attractors and reachability analysis @ ECCB2020-T05\n",
    "<div style=\"text-align: right; font-style: italic;\">Pedro T. Monteiro</div>\n",
    "\n",
    "You can obtain information about the:\n",
    "- CoLoMoTo consortium at [http://colomoto.org](http://colomoto.org)\n",
    "- CoLoMoTo notebook at [doi:10.3389/fphys.2018.00680](https://doi.org/10.3389/fphys.2018.00680)\n",
    "\n",
    "***\n",
    "\n",
    "Here, we consider the following list of software tools:\n",
    "- **bioLQM**: library which provides a datastructure for the representation of logical models, and a collection of filters to load or save these models in various formats, facilitating the interoperability between tools which do not directly support SBML qual. It relies on JSBML for SBML qual support. It can be used on the command line for model conversion or stable state identification. It can also provide its \"core\" to other tools (such as GINsim, CoLoMoTo-docker and Epilog) which can benefit from additional API for the representation of perturbations or simulation engines.\n",
    "  - to compute the stable states\n",
    "- **GINsim**: Java application for the construction and analysis of multi-valued logical models, which provides a user-friendly graphical interface to define the model itself.\n",
    "  - to display the regulatory graph\n",
    "- **boolsim**: BoolSim implements an efficient algorithm, based on reduced ordered binary decision diagrams to evaluate attractors (stable states, as well as cyclic attractors) and perform perturbation experiments on Boolean networks, using synchronous or asynchronous network dynamics.\n",
    "  - to compute both stable states and complex attractors\n",
    "\n",
    "Most examples below were borrowed from [https://github.com/colomoto/colomoto-docker](https://github.com/colomoto/colomoto-docker), which is mainly maintained by Loïc Paulevè and Aurélien Naldi."
   ]
  },
  {
   "cell_type": "markdown",
   "metadata": {},
   "source": [
    "***\n",
    "### Attractor identification\n",
    "\n",
    "You can import all the necessary tools/libraries at the beginning or later on as needed."
   ]
  },
  {
   "cell_type": "code",
   "execution_count": 33,
   "metadata": {},
   "outputs": [],
   "source": [
    "import biolqm"
   ]
  },
  {
   "cell_type": "markdown",
   "metadata": {},
   "source": [
    "The [GINsim.org](http://ginsim.org) website provides not only the latest GINsim software, but also a [Model repository](http://ginsim.org/models_repository) with numerous models that can be browsed and search by name, taxon or process."
   ]
  },
  {
   "cell_type": "code",
   "execution_count": 34,
   "metadata": {},
   "outputs": [
    {
     "data": {
      "text/markdown": [
       "Downloading http://ginsim.org/sites/default/files/phageLambda4.zginml"
      ],
      "text/plain": [
       "<IPython.core.display.Markdown object>"
      ]
     },
     "metadata": {},
     "output_type": "display_data"
    }
   ],
   "source": [
    "lqm = biolqm.load(\"http://ginsim.org/sites/default/files/phageLambda4.zginml\")"
   ]
  },
  {
   "cell_type": "markdown",
   "metadata": {},
   "source": [
    "Optionaly, you can visualize the regulatory graph of the model. However, bioLQM does not contain visualization features and we need to use (a headless version of) GINsim to output the image of the graph."
   ]
  },
  {
   "cell_type": "code",
   "execution_count": 35,
   "metadata": {},
   "outputs": [
    {
     "data": {
      "text/html": [
       "<img class=\"unconfined\" width=\"223px\" src=\"data:image/svg+xml;base64,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\">"
      ],
      "text/plain": [
       "<IPython.core.display.HTML object>"
      ]
     },
     "execution_count": 35,
     "metadata": {},
     "output_type": "execute_result"
    }
   ],
   "source": [
    "import ginsim\n",
    "lrg = biolqm.to_ginsim(lqm)\n",
    "ginsim.show(lrg)"
   ]
  },
  {
   "cell_type": "markdown",
   "metadata": {},
   "source": []
  },
  {
   "cell_type": "code",
   "execution_count": 48,
   "metadata": {},
   "outputs": [
    {
     "name": "stdout",
     "output_type": "stream",
     "text": [
      "# fixpoints: 1\n"
     ]
    },
    {
     "data": {
      "text/html": [
       "<div>\n",
       "<style scoped>\n",
       "    .dataframe tbody tr th:only-of-type {\n",
       "        vertical-align: middle;\n",
       "    }\n",
       "\n",
       "    .dataframe tbody tr th {\n",
       "        vertical-align: top;\n",
       "    }\n",
       "\n",
       "    .dataframe thead th {\n",
       "        text-align: right;\n",
       "    }\n",
       "</style>\n",
       "<table border=\"1\" class=\"dataframe\">\n",
       "  <thead>\n",
       "    <tr style=\"text-align: right;\">\n",
       "      <th></th>\n",
       "      <th>CI</th>\n",
       "      <th>Cro</th>\n",
       "      <th>CII</th>\n",
       "      <th>N</th>\n",
       "    </tr>\n",
       "  </thead>\n",
       "  <tbody>\n",
       "    <tr>\n",
       "      <th>0</th>\n",
       "      <td>2</td>\n",
       "      <td>0</td>\n",
       "      <td>0</td>\n",
       "      <td>0</td>\n",
       "    </tr>\n",
       "  </tbody>\n",
       "</table>\n",
       "</div>"
      ],
      "text/plain": [
       "   CI  Cro  CII  N\n",
       "0   2    0    0  0"
      ]
     },
     "execution_count": 48,
     "metadata": {},
     "output_type": "execute_result"
    }
   ],
   "source": [
    "bioLQM_fixpoints = biolqm.fixpoints(lqm)\n",
    "print('# fixpoints:', len(bioLQM_fixpoints))\n",
    "\n",
    "from colomoto_jupyter import tabulate\n",
    "tabulate(bioLQM_fixpoints)"
   ]
  },
  {
   "cell_type": "markdown",
   "metadata": {},
   "source": [
    "But wait! Phage Lambda model was supposed to have two attractors, right? One denoting lysis, and another denoting lysogeny. So, is the model not generating it or is it just \"disguised\" as a complex attractor?\n",
    "\n",
    "There is no efficient method to identify complex attractors. This means that we have to perform simulations, i.e., have to explicitly generate the dynamics.\n",
    "Although bioLQM/GINsim efficiently discover stable states (without simulation), they do not scale for the explicit generation of huge state transition graphs (STGs).\n",
    "\n",
    "Here, we consider boolsim, which albeit doing a simulation based identification of attractors, it does it very efficiently (more info at [doi:10.1093/bioinformatics/btn336](https://doi.org/10.1093/bioinformatics/btn336)."
   ]
  },
  {
   "cell_type": "code",
   "execution_count": 124,
   "metadata": {},
   "outputs": [
    {
     "name": "stdout",
     "output_type": "stream",
     "text": [
      "# attractors: 2\n"
     ]
    },
    {
     "data": {
      "text/html": [
       "<div>\n",
       "<style scoped>\n",
       "    .dataframe tbody tr th:only-of-type {\n",
       "        vertical-align: middle;\n",
       "    }\n",
       "\n",
       "    .dataframe tbody tr th {\n",
       "        vertical-align: top;\n",
       "    }\n",
       "\n",
       "    .dataframe thead th {\n",
       "        text-align: right;\n",
       "    }\n",
       "</style>\n",
       "<table border=\"1\" class=\"dataframe\">\n",
       "  <thead>\n",
       "    <tr style=\"text-align: right;\">\n",
       "      <th></th>\n",
       "      <th>CI_b1</th>\n",
       "      <th>CI_b2</th>\n",
       "      <th>CII</th>\n",
       "      <th>Cro_b1</th>\n",
       "      <th>Cro_b2</th>\n",
       "      <th>Cro_b3</th>\n",
       "      <th>N</th>\n",
       "    </tr>\n",
       "  </thead>\n",
       "  <tbody>\n",
       "    <tr>\n",
       "      <th>0</th>\n",
       "      <td>0</td>\n",
       "      <td>0</td>\n",
       "      <td>0</td>\n",
       "      <td>1</td>\n",
       "      <td>1</td>\n",
       "      <td>*</td>\n",
       "      <td>0</td>\n",
       "    </tr>\n",
       "    <tr>\n",
       "      <th>1</th>\n",
       "      <td>1</td>\n",
       "      <td>1</td>\n",
       "      <td>0</td>\n",
       "      <td>0</td>\n",
       "      <td>0</td>\n",
       "      <td>0</td>\n",
       "      <td>0</td>\n",
       "    </tr>\n",
       "  </tbody>\n",
       "</table>\n",
       "</div>"
      ],
      "text/plain": [
       "   CI_b1  CI_b2  CII  Cro_b1  Cro_b2 Cro_b3  N\n",
       "0      0      0    0       1       1      *  0\n",
       "1      1      1    0       0       0      0  0"
      ]
     },
     "execution_count": 124,
     "metadata": {},
     "output_type": "execute_result"
    }
   ],
   "source": [
    "import boolsim\n",
    "boolsim_attractors = boolsim.attractors(lqm)\n",
    "print('# attractors:', len(boolsim_attractors))\n",
    "tabulate(boolsim_attractors)"
   ]
  },
  {
   "cell_type": "markdown",
   "metadata": {},
   "source": [
    "Indeed, we recover the previous stable state with high level of CI (lysogenic state), plus a complex attractor with oscillating high levels of Cro (lysis)."
   ]
  },
  {
   "cell_type": "markdown",
   "metadata": {},
   "source": [
    "***\n",
    "### Attractor reachability\n",
    "\n",
    "Even if a model is capable of generating the correct attractors, it still needs to ensure that each one is reached from specific initial conditions, characterized by a (set of) state(s)."
   ]
  },
  {
   "cell_type": "code",
   "execution_count": 52,
   "metadata": {},
   "outputs": [
    {
     "data": {
      "text/html": [
       "<div>\n",
       "<style scoped>\n",
       "    .dataframe tbody tr th:only-of-type {\n",
       "        vertical-align: middle;\n",
       "    }\n",
       "\n",
       "    .dataframe tbody tr th {\n",
       "        vertical-align: top;\n",
       "    }\n",
       "\n",
       "    .dataframe thead th {\n",
       "        text-align: right;\n",
       "    }\n",
       "</style>\n",
       "<table border=\"1\" class=\"dataframe\">\n",
       "  <thead>\n",
       "    <tr style=\"text-align: right;\">\n",
       "      <th></th>\n",
       "      <th>CI_b1</th>\n",
       "      <th>CI_b2</th>\n",
       "      <th>CII</th>\n",
       "      <th>Cro_b1</th>\n",
       "      <th>Cro_b2</th>\n",
       "      <th>Cro_b3</th>\n",
       "      <th>N</th>\n",
       "    </tr>\n",
       "  </thead>\n",
       "  <tbody>\n",
       "    <tr>\n",
       "      <th>0</th>\n",
       "      <td>0</td>\n",
       "      <td>*</td>\n",
       "      <td>0</td>\n",
       "      <td>0</td>\n",
       "      <td>*</td>\n",
       "      <td>*</td>\n",
       "      <td>*</td>\n",
       "    </tr>\n",
       "    <tr>\n",
       "      <th>2</th>\n",
       "      <td>0</td>\n",
       "      <td>*</td>\n",
       "      <td>0</td>\n",
       "      <td>1</td>\n",
       "      <td>*</td>\n",
       "      <td>*</td>\n",
       "      <td>*</td>\n",
       "    </tr>\n",
       "    <tr>\n",
       "      <th>1</th>\n",
       "      <td>0</td>\n",
       "      <td>*</td>\n",
       "      <td>1</td>\n",
       "      <td>0</td>\n",
       "      <td>*</td>\n",
       "      <td>*</td>\n",
       "      <td>1</td>\n",
       "    </tr>\n",
       "    <tr>\n",
       "      <th>3</th>\n",
       "      <td>0</td>\n",
       "      <td>*</td>\n",
       "      <td>1</td>\n",
       "      <td>1</td>\n",
       "      <td>0</td>\n",
       "      <td>*</td>\n",
       "      <td>1</td>\n",
       "    </tr>\n",
       "    <tr>\n",
       "      <th>4</th>\n",
       "      <td>0</td>\n",
       "      <td>*</td>\n",
       "      <td>1</td>\n",
       "      <td>1</td>\n",
       "      <td>1</td>\n",
       "      <td>*</td>\n",
       "      <td>*</td>\n",
       "    </tr>\n",
       "    <tr>\n",
       "      <th>5</th>\n",
       "      <td>1</td>\n",
       "      <td>*</td>\n",
       "      <td>*</td>\n",
       "      <td>*</td>\n",
       "      <td>*</td>\n",
       "      <td>*</td>\n",
       "      <td>*</td>\n",
       "    </tr>\n",
       "  </tbody>\n",
       "</table>\n",
       "</div>"
      ],
      "text/plain": [
       "   CI_b1 CI_b2 CII Cro_b1 Cro_b2 Cro_b3  N\n",
       "0      0     *   0      0      *      *  *\n",
       "2      0     *   0      1      *      *  *\n",
       "1      0     *   1      0      *      *  1\n",
       "3      0     *   1      1      0      *  1\n",
       "4      0     *   1      1      1      *  *\n",
       "5      1     *   *      *      *      *  *"
      ]
     },
     "execution_count": 52,
     "metadata": {},
     "output_type": "execute_result"
    }
   ],
   "source": [
    "init = {str(node): 0 for node in lrg.getNodes()}\n",
    "init_reached = boolsim.reachable(lqm, init)\n",
    "tabulate(init_reached)"
   ]
  },
  {
   "cell_type": "markdown",
   "metadata": {},
   "source": [
    "So, did we reach any of the attractors? This is one of the smallest models in the model repository. What if we were working with a model with 100 nodes?\n",
    "\n",
    "Also, note that \"reached states\" are all the states visited leading to attractors, not only the states belonging to the attractors.\n",
    "\n",
    "We need to verify if any of the attractors intersects with the set of reached states. This is done using:\n",
    " - **boolsim_setutils**: a tool to efficiently perform the union, difference and intersection between sets of states."
   ]
  },
  {
   "cell_type": "code",
   "execution_count": 66,
   "metadata": {},
   "outputs": [
    {
     "name": "stdout",
     "output_type": "stream",
     "text": [
      "{'CI': 0, 'Cro': 0, 'CII': 0, 'N': 0, 'CI_b1': '*', 'CI_b2': '*', 'Cro_b1': '*', 'Cro_b2': '*', 'Cro_b3': '*'}\n"
     ]
    }
   ],
   "source": [
    "# The initial state is contained in the set of reached states\n",
    "print(boolsim.intersection(init, init_reached))"
   ]
  },
  {
   "cell_type": "code",
   "execution_count": 67,
   "metadata": {
    "scrolled": true
   },
   "outputs": [
    {
     "name": "stdout",
     "output_type": "stream",
     "text": [
      "{'CI_b1': 0, 'CI_b2': 0, 'CII': 0, 'Cro_b1': 1, 'Cro_b2': 1, 'Cro_b3': '*', 'N': 0}\n",
      "{'CI_b1': 1, 'CI_b2': 1, 'CII': 0, 'Cro_b1': 0, 'Cro_b2': 0, 'Cro_b3': 0, 'N': 0}\n"
     ]
    }
   ],
   "source": [
    "# The lytic states are contained in the set of reached states\n",
    "print(boolsim.intersection(boolsim_attractors[0], init_reached))\n",
    "# The lysogenic state is contained in the set of reached states\n",
    "print(boolsim.intersection(boolsim_attractors[1], init_reached))"
   ]
  },
  {
   "cell_type": "code",
   "execution_count": 72,
   "metadata": {},
   "outputs": [
    {
     "name": "stdout",
     "output_type": "stream",
     "text": [
      "None\n"
     ]
    }
   ],
   "source": [
    "# If we start from the Lytic attractor states, we (obviously) cannot reach the lysogenic state\n",
    "lysis_reached = boolsim.reachable(lqm, boolsim_attractors[0])\n",
    "print(boolsim.intersection(boolsim_attractors[1], lysis_reached))"
   ]
  },
  {
   "cell_type": "markdown",
   "metadata": {},
   "source": [
    "***\n",
    "### Property verification with NuSMV\n",
    "\n",
    "Sometimes we need to verify not only that an attractor is present and it is reachable, but also that from the initial state until the attractor an additional condition is met. For example, it passes through an additional state.\n",
    "\n",
    "To verify conditions on trajectories, we use:\n",
    "- **NuSMV**: a BDD-based symbolic model-checker [http://nusmv.fbk.eu](http://nusmv.fbk.eu).\n",
    "\n",
    "The expression of conditions on trajectories is performed through the use of temporal properties, in particular, using Computational Tree Logic (CTL) or Linear Temporal Logic (LTL) properties.\n",
    "\n",
    "We use the `colomoto` python module which offers a generic interface for declaring temporal properties using either LTL or CTL."
   ]
  },
  {
   "cell_type": "code",
   "execution_count": 95,
   "metadata": {},
   "outputs": [],
   "source": [
    "from colomoto.temporal_logics import *"
   ]
  },
  {
   "cell_type": "markdown",
   "metadata": {},
   "source": [
    "#### Defining properties\n",
    "\n",
    "Properties on states are specified using the `S` operator.\n",
    "The following property characterize the initial state when all the nodes are inactive:"
   ]
  },
  {
   "cell_type": "code",
   "execution_count": 96,
   "metadata": {},
   "outputs": [],
   "source": [
    "initial_state = S(CI=0,CII=0,Cro=0,N=0)"
   ]
  },
  {
   "cell_type": "markdown",
   "metadata": {},
   "source": [
    "The lysogenic state is characterized by the node `CI` being permanently strongly expressed, which is modeled by `CI=2`. The following CTL property expresses that from the given state, all the reachable states (`AG`) satisfy `CI=2`:"
   ]
  },
  {
   "cell_type": "code",
   "execution_count": 97,
   "metadata": {},
   "outputs": [],
   "source": [
    "lysogenic = AG(S(CI=2))"
   ]
  },
  {
   "cell_type": "markdown",
   "metadata": {},
   "source": [
    "The lytic state is characterized by the node `CI` being inactive (value 0), and `Cro` oscillating between activity levels 2 and 3. This is stated by the following CTL property:"
   ]
  },
  {
   "cell_type": "code",
   "execution_count": 98,
   "metadata": {},
   "outputs": [],
   "source": [
    "lytic = AG(S(CI=0) & (S(Cro=2) | S(Cro=3)))"
   ]
  },
  {
   "cell_type": "markdown",
   "metadata": {},
   "source": [
    "The following CTL properties is true if all the reachable attractors are either lysogenic or lytic states:"
   ]
  },
  {
   "cell_type": "code",
   "execution_count": 99,
   "metadata": {},
   "outputs": [],
   "source": [
    "attractors = AG(EF(lysogenic | lytic))"
   ]
  },
  {
   "cell_type": "markdown",
   "metadata": {},
   "source": [
    "#### Calling NuSMV\n",
    "\n",
    "GINsim provides a translation of Boolean and multivalued networks into NuSMV models:"
   ]
  },
  {
   "cell_type": "code",
   "execution_count": 100,
   "metadata": {},
   "outputs": [],
   "source": [
    "smv = ginsim.to_nusmv(lrg)"
   ]
  },
  {
   "cell_type": "markdown",
   "metadata": {},
   "source": [
    "Here, `smv` is a Python object representing the NuSMV model.\n",
    "CTL/LTL specification can be added using the method `add_ctl` and `add_ltl`, respectively.\n",
    "For convenience, a label can be given to a property:"
   ]
  },
  {
   "cell_type": "code",
   "execution_count": 101,
   "metadata": {},
   "outputs": [],
   "source": [
    "smv.add_ctl(attractors, name=\"global_attractors\")"
   ]
  },
  {
   "cell_type": "markdown",
   "metadata": {},
   "source": [
    "Properties can also be added by bulk, providing a Python dictionnary specifying the properties.\n",
    "In the following cell, we specify two properties: one verifying that, from the initial state, there exists a trajectory leading to a stable lysogenic state, and another one verifying that, from the initial state, there exists a trajectory leading to a stable lytic state."
   ]
  },
  {
   "cell_type": "code",
   "execution_count": 102,
   "metadata": {},
   "outputs": [],
   "source": [
    "specs = {\n",
    "    \"reach_lyso\": If(initial_state, EF(lysogenic)),\n",
    "    \"reach_lytic\": If(initial_state, EF(lytic))\n",
    "}\n",
    "smv.add_ctls(specs)"
   ]
  },
  {
   "cell_type": "markdown",
   "metadata": {},
   "source": [
    "The method `verify` will execute NuSMV and returns the verification result for each property:"
   ]
  },
  {
   "cell_type": "code",
   "execution_count": 103,
   "metadata": {},
   "outputs": [
    {
     "data": {
      "text/plain": [
       "{'global_attractors': True, 'reach_lyso': True, 'reach_lytic': True}"
      ]
     },
     "execution_count": 103,
     "metadata": {},
     "output_type": "execute_result"
    }
   ],
   "source": [
    "smv.verify()"
   ]
  },
  {
   "cell_type": "markdown",
   "metadata": {},
   "source": [
    "We could also verify if starting from the initial state, it is possible to pass through some intermediate state before reaching both attractors."
   ]
  },
  {
   "cell_type": "code",
   "execution_count": 122,
   "metadata": {},
   "outputs": [],
   "source": [
    "middle_CI = S(CI=1,CII=0,Cro=0,N=0)\n",
    "middle_Cro = S(CI=0,CII=0,Cro=1,N=0)\n",
    "specs2 = {\n",
    "    \"middle_CI_lyso\": If(initial_state, EF(middle_CI & EF(lysogenic))),\n",
    "    \"middle_Cro_lyso\": If(initial_state, EF(middle_Cro & EF(lysogenic))),\n",
    "    \"middle_CI_lytic\": If(initial_state, EF(middle_CI & EF(lytic))),\n",
    "    \"middle_Cro_lytic\": If(initial_state, EF(middle_Cro & EF(lytic))),\n",
    "    \"middle_Cro_lytic_AF\": If(initial_state, AF(middle_Cro & EF(lytic)))\n",
    "}\n",
    "smv = ginsim.to_nusmv(lrg)\n",
    "smv.add_ctls(specs2)"
   ]
  },
  {
   "cell_type": "code",
   "execution_count": 123,
   "metadata": {},
   "outputs": [
    {
     "data": {
      "text/plain": [
       "{'middle_CI_lyso': True,\n",
       " 'middle_Cro_lyso': True,\n",
       " 'middle_CI_lytic': True,\n",
       " 'middle_Cro_lytic': True,\n",
       " 'middle_Cro_lytic_AF': False}"
      ]
     },
     "execution_count": 123,
     "metadata": {},
     "output_type": "execute_result"
    }
   ],
   "source": [
    "smv.verify()"
   ]
  },
  {
   "cell_type": "code",
   "execution_count": null,
   "metadata": {},
   "outputs": [],
   "source": []
  }
 ],
 "metadata": {
  "kernelspec": {
   "display_name": "Python 3",
   "language": "python",
   "name": "python3"
  },
  "language_info": {
   "codemirror_mode": {
    "name": "ipython",
    "version": 3
   },
   "file_extension": ".py",
   "mimetype": "text/x-python",
   "name": "python",
   "nbconvert_exporter": "python",
   "pygments_lexer": "ipython3",
   "version": "3.8.3"
  }
 },
 "nbformat": 4,
 "nbformat_minor": 4
}
